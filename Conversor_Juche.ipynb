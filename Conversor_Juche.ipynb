{
  "nbformat": 4,
  "nbformat_minor": 0,
  "metadata": {
    "colab": {
      "provenance": [],
      "authorship_tag": "ABX9TyML0o/Zw0337LH4OtUY7H3G",
      "include_colab_link": true
    },
    "kernelspec": {
      "name": "python3",
      "display_name": "Python 3"
    },
    "language_info": {
      "name": "python"
    }
  },
  "cells": [
    {
      "cell_type": "markdown",
      "metadata": {
        "id": "view-in-github",
        "colab_type": "text"
      },
      "source": [
        "<a href=\"https://colab.research.google.com/github/marialasa/conversorjuche/blob/main/Conversor_Juche.ipynb\" target=\"_parent\"><img src=\"https://colab.research.google.com/assets/colab-badge.svg\" alt=\"Open In Colab\"/></a>"
      ]
    },
    {
      "cell_type": "markdown",
      "source": [
        "# 📅 **Conversor Juche**\n",
        "### ¿Qué año es en Corea del Norte?"
      ],
      "metadata": {
        "id": "A_qYUOGg_oJO"
      }
    },
    {
      "cell_type": "code",
      "execution_count": null,
      "metadata": {
        "id": "6CH3CUzeUp-S"
      },
      "outputs": [],
      "source": [
        "# 👉 Dale play al script y esperá que aparezca un check de color verde que indica que se ha cargado la función\n",
        "\n",
        "def conversor_juche():\n",
        "\n",
        "    while True:\n",
        "\n",
        "      try:\n",
        "          gregoriano = int(input(\"Ingresá un año del calendario gregoriano y presioná enter: \"))\n",
        "          juche = gregoriano - 1911\n",
        "\n",
        "      except ValueError:\n",
        "          print(\"Ingresá un año válido en formato numérico.\")\n",
        "          continue\n",
        "\n",
        "      if gregoriano >= 1912 and gregoriano <= 2023:\n",
        "          print(f\"El año {gregoriano} del calendario gregoriano equivale al año {juche} del calendario Juche.\")\n",
        "\n",
        "      elif gregoriano >= 2024:\n",
        "          print(f\"El año {gregoriano} del calendario gregoriano, en un futuro, equivaldría al año {juche} del calendario Juche.\")\n",
        "\n",
        "      else:\n",
        "          print(\"Los años anteriores a 1912, en Corea del Norte, se computan en calendario gregoriano.\")\n",
        "          print(\"En el calendario Juche no existe ni el año 0 ni el equivalente al a.C.\")\n",
        "\n",
        "      loop = input(\"¿Querés convertir otro año? Sí o No: \")\n",
        "\n",
        "      if loop.lower() in [\"no\", \"n\"]:\n",
        "          print(\"📅 ¡Muchas gracias por usar el conversor Juche! 📅\")\n",
        "          break\n",
        "\n",
        "    return None"
      ]
    },
    {
      "cell_type": "code",
      "source": [
        "# 🤙 Dale play a la función y empezá a convertir años entre calendarios\n",
        "\n",
        "conversor_juche()"
      ],
      "metadata": {
        "id": "tLMW3ugrvUYc"
      },
      "execution_count": null,
      "outputs": []
    }
  ]
}